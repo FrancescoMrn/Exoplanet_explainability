{
 "cells": [
  {
   "cell_type": "markdown",
   "metadata": {},
   "source": [
    "# Exoplanets - Data Modelling\n",
    "\n",
    "In this notebook we will model the data provided in the dataset and evaluate the results. After the implementation of data-loading fuctions, two models will be used to evaluate how different algorimths classify the dataset.\n"
   ]
  },
  {
   "cell_type": "code",
   "execution_count": 1,
   "metadata": {},
   "outputs": [],
   "source": [
    "import numpy as np\n",
    "import datetime, os\n",
    "import matplotlib.pyplot as plt"
   ]
  },
  {
   "cell_type": "markdown",
   "metadata": {},
   "source": [
    "### Import data in train and test set"
   ]
  },
  {
   "cell_type": "code",
   "execution_count": 2,
   "metadata": {},
   "outputs": [],
   "source": [
    "TRAIN_SET_PATH = \"data/Exoplanets/exoTrain.csv\"\n",
    "TEST_SET_PATH = \"data/Exoplanets/exoTest.csv\""
   ]
  },
  {
   "cell_type": "code",
   "execution_count": 3,
   "metadata": {},
   "outputs": [],
   "source": [
    "# define label column\n",
    "LABEL_COLUMN_INDEX = 0"
   ]
  },
  {
   "cell_type": "code",
   "execution_count": 4,
   "metadata": {},
   "outputs": [],
   "source": [
    "def data_loader_txt(path, skiprows=1, delimiter=',', normalize=True):\n",
    "    raw = np.loadtxt(path, skiprows=1, delimiter=',')\n",
    "    x = raw[:, LABEL_COLUMN_INDEX+1:]\n",
    "    y = raw[:, LABEL_COLUMN_INDEX, np.newaxis] - 1. # -1 to report label in the range 0-1\n",
    "    \n",
    "    if normalize: # standard normalization\n",
    "        x = ((x - np.mean(x, axis=1).reshape(-1,1)) / np.std(x, axis=1).reshape(-1,1))\n",
    "    return x, y"
   ]
  },
  {
   "cell_type": "code",
   "execution_count": 5,
   "metadata": {},
   "outputs": [],
   "source": [
    "# loading train set\n",
    "x_train, y_train = data_loader_txt(TRAIN_SET_PATH) \n",
    "# loading test set\n",
    "x_test, y_test = data_loader_txt(TEST_SET_PATH) "
   ]
  },
  {
   "cell_type": "markdown",
   "metadata": {},
   "source": [
    "### Baseline model"
   ]
  },
  {
   "cell_type": "code",
   "execution_count": 6,
   "metadata": {},
   "outputs": [],
   "source": [
    "from sklearn.svm import LinearSVC\n",
    "from sklearn.metrics import confusion_matrix\n",
    "from sklearn.metrics import recall_score"
   ]
  },
  {
   "cell_type": "code",
   "execution_count": 7,
   "metadata": {},
   "outputs": [
    {
     "name": "stdout",
     "output_type": "stream",
     "text": [
      "SVC - baseline training...\n",
      "SVC - training and evaluation completed\n"
     ]
    },
    {
     "name": "stderr",
     "output_type": "stream",
     "text": [
      "C:\\Users\\Francesco\\miniconda3\\envs\\tensorflow\\lib\\site-packages\\sklearn\\svm\\_base.py:977: ConvergenceWarning: Liblinear failed to converge, increase the number of iterations.\n",
      "  \"the number of iterations.\", ConvergenceWarning)\n"
     ]
    }
   ],
   "source": [
    "svc = LinearSVC(C=0.5, max_iter=3000, verbose=0,  class_weight='balanced')\n",
    "print(\"SVC - baseline training...\")\n",
    "svc.fit(x_train, np.squeeze(y_train))\n",
    "y_pred = svc.predict(x_test)\n",
    "print(\"SVC - training and evaluation completed\")"
   ]
  },
  {
   "cell_type": "code",
   "execution_count": 8,
   "metadata": {},
   "outputs": [],
   "source": [
    "# calculare confusion matrix\n",
    "scv_cm = confusion_matrix(y_true=np.squeeze(y_test), y_pred=y_pred)"
   ]
  },
  {
   "cell_type": "code",
   "execution_count": 9,
   "metadata": {},
   "outputs": [],
   "source": [
    "def plot_confusion_matrix(cm,target_names, title='Confusion matrix', cmap=None, normalize=True):\n",
    "    \"\"\"\n",
    "    given a sklearn confusion matrix (cm), make a nice plot\n",
    "\n",
    "    Arguments\n",
    "    ---------\n",
    "    cm:           confusion matrix from sklearn.metrics.confusion_matrix\n",
    "\n",
    "    target_names: given classification classes such as [0, 1, 2]\n",
    "                  the class names, for example: ['high', 'medium', 'low']\n",
    "\n",
    "    title:        the text to display at the top of the matrix\n",
    "\n",
    "    cmap:         the gradient of the values displayed from matplotlib.pyplot.cm\n",
    "                  see http://matplotlib.org/examples/color/colormaps_reference.html\n",
    "                  plt.get_cmap('jet') or plt.cm.Blues\n",
    "\n",
    "    normalize:    If False, plot the raw numbers\n",
    "                  If True, plot the proportions\n",
    "    \"\"\"\n",
    "    import matplotlib.pyplot as plt\n",
    "    import numpy as np\n",
    "    import itertools\n",
    "\n",
    "    accuracy = np.trace(cm) / float(np.sum(cm))\n",
    "    misclass = 1 - accuracy\n",
    "\n",
    "    if cmap is None:\n",
    "        cmap = plt.get_cmap('Blues')\n",
    "\n",
    "    plt.figure(figsize=(8, 6))\n",
    "    plt.imshow(cm, interpolation='nearest', cmap=cmap)\n",
    "    plt.title(title)\n",
    "    plt.colorbar()\n",
    "\n",
    "    if target_names is not None:\n",
    "        tick_marks = np.arange(len(target_names))\n",
    "        plt.xticks(tick_marks, target_names, rotation=45)\n",
    "        plt.yticks(tick_marks, target_names)\n",
    "\n",
    "    if normalize:\n",
    "        cm = cm.astype('float') / cm.sum(axis=1)[:, np.newaxis]\n",
    "\n",
    "\n",
    "    thresh = cm.max() / 1.5 if normalize else cm.max() / 2\n",
    "    for i, j in itertools.product(range(cm.shape[0]), range(cm.shape[1])):\n",
    "        if normalize:\n",
    "            plt.text(j, i, \"{:0.4f}\".format(cm[i, j]),\n",
    "                     horizontalalignment=\"center\",\n",
    "                     color=\"white\" if cm[i, j] > thresh else \"black\")\n",
    "        else:\n",
    "            plt.text(j, i, \"{:,}\".format(cm[i, j]),\n",
    "                     horizontalalignment=\"center\",\n",
    "                     color=\"white\" if cm[i, j] > thresh else \"black\")\n",
    "\n",
    "\n",
    "    plt.tight_layout()\n",
    "    plt.ylabel('True label')\n",
    "    plt.xlabel('Predicted label\\n \\nAccuracy={:0.3f}; Missclass={:0.3f}'.format(accuracy, misclass))\n",
    "    plt.show()"
   ]
  },
  {
   "cell_type": "code",
   "execution_count": 10,
   "metadata": {},
   "outputs": [
    {
     "data": {
      "image/png": "[encoded data removed]",
      "text/plain": [
       "<Figure size 576x432 with 2 Axes>"
      ]
     },
     "metadata": {
      "needs_background": "light"
     },
     "output_type": "display_data"
    },
    {
     "name": "stdout",
     "output_type": "stream",
     "text": [
      "Recall score: 0.2\n"
     ]
    }
   ],
   "source": [
    "plot_confusion_matrix(scv_cm, [\"Non-Exoplanet\", \"Exoplanet\"], normalize=False)\n",
    "print(\"Recall score:\",recall_score(y_test, y_pred))"
   ]
  },
  {
   "cell_type": "markdown",
   "metadata": {},
   "source": [
    "### Tensorflow CNN model "
   ]
  },
  {
   "cell_type": "code",
   "execution_count": 11,
   "metadata": {},
   "outputs": [],
   "source": [
    "import tensorflow as tf\n",
    "from tensorflow.keras.models import Sequential, Model\n",
    "from tensorflow.keras.layers import Conv1D, MaxPool1D, Dense, Dropout, Flatten, BatchNormalization, Input, concatenate, Activation\n",
    "from tensorflow.keras.optimizers import Adam\n",
    "\n",
    "%load_ext tensorboard"
   ]
  },
  {
   "cell_type": "code",
   "execution_count": 12,
   "metadata": {},
   "outputs": [],
   "source": [
    "# expand one dimension to work with 1D CNN layer\n",
    "x_train = np.expand_dims(x_train, axis=2)\n",
    "x_test = np.expand_dims(x_test, axis=2)"
   ]
  },
  {
   "cell_type": "markdown",
   "metadata": {},
   "source": [
    "##### Model definition"
   ]
  },
  {
   "cell_type": "code",
   "execution_count": 13,
   "metadata": {},
   "outputs": [],
   "source": [
    "def create_model():\n",
    "    return tf.keras.models.Sequential([\n",
    "        Conv1D(filters=8, kernel_size=5, activation='relu', input_shape=x_train.shape[1:]),\n",
    "        MaxPool1D(strides=4),\n",
    "        BatchNormalization(),\n",
    "        Conv1D(filters=16, kernel_size=3, activation='relu'),\n",
    "        MaxPool1D(strides=4),\n",
    "        BatchNormalization(),\n",
    "        Conv1D(filters=32, kernel_size=3, activation='relu'),\n",
    "        MaxPool1D(strides=4),\n",
    "        BatchNormalization(),\n",
    "        Conv1D(filters=64, kernel_size=3, activation='relu'),\n",
    "        MaxPool1D(strides=4),\n",
    "        Flatten(),\n",
    "        Dropout(0.2),\n",
    "        Dense(64, activation='relu'),\n",
    "        Dropout(0.2),\n",
    "        Dense(64, activation='relu'),\n",
    "        Dense(1, activation='sigmoid'),\n",
    "    ])"
   ]
  },
  {
   "cell_type": "code",
   "execution_count": 14,
   "metadata": {},
   "outputs": [],
   "source": [
    "def batch_generator(x_train, y_train, batch_size=32):\n",
    "    \"\"\"\n",
    "    Gives equal number of positive and negative samples, and rotates them randomly in time\n",
    "    \"\"\"\n",
    "    half_batch = batch_size // 2\n",
    "    x_batch = np.empty((batch_size, x_train.shape[1], x_train.shape[2]), dtype='float32')\n",
    "    y_batch = np.empty((batch_size, y_train.shape[1]), dtype='float32')\n",
    "    \n",
    "    yes_idx = np.where(y_train[:,0] == 1.)[0]\n",
    "    non_idx = np.where(y_train[:,0] == 0.)[0]\n",
    "    \n",
    "    while True:\n",
    "        np.random.shuffle(yes_idx)\n",
    "        np.random.shuffle(non_idx)\n",
    "    \n",
    "        x_batch[:half_batch] = x_train[yes_idx[:half_batch]]\n",
    "        x_batch[half_batch:] = x_train[non_idx[half_batch:batch_size]]\n",
    "        y_batch[:half_batch] = y_train[yes_idx[:half_batch]]\n",
    "        y_batch[half_batch:] = y_train[non_idx[half_batch:batch_size]]\n",
    "    \n",
    "        for i in range(batch_size):\n",
    "            sz = np.random.randint(x_batch.shape[1])\n",
    "            x_batch[i] = np.roll(x_batch[i], sz, axis = 0)\n",
    "     \n",
    "        yield x_batch, y_batch"
   ]
  },
  {
   "cell_type": "markdown",
   "metadata": {},
   "source": [
    "##### Model compile and train"
   ]
  },
  {
   "cell_type": "code",
   "execution_count": 15,
   "metadata": {},
   "outputs": [],
   "source": [
    "def train_model(epochs, batch_size=32):\n",
    "    model = create_model()\n",
    "    print(\"Model architecture in training:\")\n",
    "    print(model.summary())\n",
    "    print(\"\\n\")\n",
    "    model.compile(optimizer=Adam(3e-5),\n",
    "                  loss='binary_crossentropy',\n",
    "                  metrics=[tf.keras.metrics.BinaryAccuracy(), tf.keras.metrics.Recall()])\n",
    "\n",
    "    logdir = os.path.join(\"logs\", datetime.datetime.now().strftime(\"%Y%m%d-%H%M%S\"))\n",
    "    tensorboard_callback = tf.keras.callbacks.TensorBoard(logdir, histogram_freq=1)\n",
    "\n",
    "    model.fit(batch_generator(x_train, y_train, batch_size), \n",
    "              epochs=epochs, \n",
    "              validation_data=(x_test, y_test),\n",
    "              steps_per_epoch=x_train.shape[1]//batch_size,\n",
    "              callbacks=[tensorboard_callback])"
   ]
  },
  {
   "cell_type": "code",
   "execution_count": 16,
   "metadata": {
    "collapsed": true,
    "jupyter": {
     "outputs_hidden": true
    }
   },
   "outputs": [
    {
     "name": "stdout",
     "output_type": "stream",
     "text": [
      "Model architecture in training:\n",
      "Model: \"sequential\"\n",
      "_________________________________________________________________\n",
      "Layer (type)                 Output Shape              Param #   \n",
      "=================================================================\n",
      "conv1d (Conv1D)              (None, 3193, 8)           48        \n",
      "_________________________________________________________________\n",
      "max_pooling1d (MaxPooling1D) (None, 798, 8)            0         \n",
      "_________________________________________________________________\n",
      "batch_normalization (BatchNo (None, 798, 8)            32        \n",
      "_________________________________________________________________\n",
      "conv1d_1 (Conv1D)            (None, 796, 16)           400       \n",
      "_________________________________________________________________\n",
      "max_pooling1d_1 (MaxPooling1 (None, 199, 16)           0         \n",
      "_________________________________________________________________\n",
      "batch_normalization_1 (Batch (None, 199, 16)           64        \n",
      "_________________________________________________________________\n",
      "conv1d_2 (Conv1D)            (None, 197, 32)           1568      \n",
      "_________________________________________________________________\n",
      "max_pooling1d_2 (MaxPooling1 (None, 49, 32)            0         \n",
      "_________________________________________________________________\n",
      "batch_normalization_2 (Batch (None, 49, 32)            128       \n",
      "_________________________________________________________________\n",
      "conv1d_3 (Conv1D)            (None, 47, 64)            6208      \n",
      "_________________________________________________________________\n",
      "max_pooling1d_3 (MaxPooling1 (None, 12, 64)            0         \n",
      "_________________________________________________________________\n",
      "flatten (Flatten)            (None, 768)               0         \n",
      "_________________________________________________________________\n",
      "dropout (Dropout)            (None, 768)               0         \n",
      "_________________________________________________________________\n",
      "dense (Dense)                (None, 64)                49216     \n",
      "_________________________________________________________________\n",
      "dropout_1 (Dropout)          (None, 64)                0         \n",
      "_________________________________________________________________\n",
      "dense_1 (Dense)              (None, 64)                4160      \n",
      "_________________________________________________________________\n",
      "dense_2 (Dense)              (None, 1)                 65        \n",
      "=================================================================\n",
      "Total params: 61,889\n",
      "Trainable params: 61,777\n",
      "Non-trainable params: 112\n",
      "_________________________________________________________________\n",
      "None\n",
      "\n",
      "\n",
      "Epoch 1/100\n",
      " 1/99 [..............................] - ETA: 0s - loss: 0.7722 - binary_accuracy: 0.5625 - recall: 0.8750WARNING:tensorflow:From C:\\Users\\Francesco\\miniconda3\\envs\\tensorflow\\lib\\site-packages\\tensorflow\\python\\ops\\summary_ops_v2.py:1277: stop (from tensorflow.python.eager.profiler) is deprecated and will be removed after 2020-07-01.\n",
      "Instructions for updating:\n",
      "use `tf.profiler.experimental.stop` instead.\n",
      " 2/99 [..............................] - ETA: 2s - loss: 0.7999 - binary_accuracy: 0.5312 - recall: 0.9062WARNING:tensorflow:Callbacks method `on_train_batch_end` is slow compared to the batch time (batch time: 0.0060s vs `on_train_batch_end` time: 0.0500s). Check your callbacks.\n",
      "99/99 [==============================] - 1s 10ms/step - loss: 0.7525 - binary_accuracy: 0.5360 - recall: 0.6559 - val_loss: 0.6959 - val_binary_accuracy: 0.4825 - val_recall: 0.8000\n",
      "Epoch 2/100\n",
      "99/99 [==============================] - 1s 6ms/step - loss: 0.6954 - binary_accuracy: 0.5789 - recall: 0.5309 - val_loss: 0.7168 - val_binary_accuracy: 0.4614 - val_recall: 0.8000\n",
      "Epoch 3/100\n",
      "99/99 [==============================] - 1s 6ms/step - loss: 0.6797 - binary_accuracy: 0.5906 - recall: 0.5568 - val_loss: 0.6643 - val_binary_accuracy: 0.6158 - val_recall: 0.8000\n",
      "Epoch 4/100\n",
      "99/99 [==============================] - 1s 6ms/step - loss: 0.6504 - binary_accuracy: 0.6218 - recall: 0.5783 - val_loss: 0.5997 - val_binary_accuracy: 0.7193 - val_recall: 0.8000\n",
      "Epoch 5/100\n",
      "99/99 [==============================] - 1s 6ms/step - loss: 0.6411 - binary_accuracy: 0.6424 - recall: 0.6168 - val_loss: 0.5557 - val_binary_accuracy: 0.7526 - val_recall: 0.8000\n",
      "Epoch 6/100\n",
      "99/99 [==============================] - 1s 6ms/step - loss: 0.6440 - binary_accuracy: 0.6313 - recall: 0.6193 - val_loss: 0.5382 - val_binary_accuracy: 0.7684 - val_recall: 0.6000\n",
      "Epoch 7/100\n",
      "99/99 [==============================] - 1s 6ms/step - loss: 0.6341 - binary_accuracy: 0.6430 - recall: 0.6326 - val_loss: 0.5252 - val_binary_accuracy: 0.7789 - val_recall: 0.6000\n",
      "Epoch 8/100\n",
      "99/99 [==============================] - 1s 6ms/step - loss: 0.6278 - binary_accuracy: 0.6449 - recall: 0.6218 - val_loss: 0.5150 - val_binary_accuracy: 0.7877 - val_recall: 0.6000\n",
      "Epoch 9/100\n",
      "99/99 [==============================] - 1s 6ms/step - loss: 0.6086 - binary_accuracy: 0.6698 - recall: 0.6572 - val_loss: 0.5120 - val_binary_accuracy: 0.7860 - val_recall: 0.6000\n",
      "Epoch 10/100\n",
      "99/99 [==============================] - 1s 6ms/step - loss: 0.6189 - binary_accuracy: 0.6641 - recall: 0.6503 - val_loss: 0.5351 - val_binary_accuracy: 0.7579 - val_recall: 0.6000\n",
      "Epoch 11/100\n",
      "99/99 [==============================] - 1s 6ms/step - loss: 0.6160 - binary_accuracy: 0.6607 - recall: 0.6547 - val_loss: 0.5128 - val_binary_accuracy: 0.7702 - val_recall: 0.6000\n",
      "Epoch 12/100\n",
      "99/99 [==============================] - 1s 5ms/step - loss: 0.5997 - binary_accuracy: 0.6837 - recall: 0.6894 - val_loss: 0.5066 - val_binary_accuracy: 0.7737 - val_recall: 0.6000\n",
      "Epoch 13/100\n",
      "99/99 [==============================] - 1s 5ms/step - loss: 0.5959 - binary_accuracy: 0.6859 - recall: 0.6843 - val_loss: 0.5043 - val_binary_accuracy: 0.7702 - val_recall: 0.6000\n",
      "Epoch 14/100\n",
      "99/99 [==============================] - 1s 6ms/step - loss: 0.5997 - binary_accuracy: 0.6837 - recall: 0.6862 - val_loss: 0.5114 - val_binary_accuracy: 0.7579 - val_recall: 0.6000\n",
      "Epoch 15/100\n",
      "99/99 [==============================] - 1s 6ms/step - loss: 0.5914 - binary_accuracy: 0.6843 - recall: 0.6843 - val_loss: 0.5203 - val_binary_accuracy: 0.7544 - val_recall: 0.6000\n",
      "Epoch 16/100\n",
      "99/99 [==============================] - 1s 6ms/step - loss: 0.5818 - binary_accuracy: 0.6926 - recall: 0.6989 - val_loss: 0.5076 - val_binary_accuracy: 0.7596 - val_recall: 0.6000\n",
      "Epoch 17/100\n",
      "99/99 [==============================] - 1s 6ms/step - loss: 0.5782 - binary_accuracy: 0.7083 - recall: 0.7172 - val_loss: 0.5178 - val_binary_accuracy: 0.7491 - val_recall: 0.6000\n",
      "Epoch 18/100\n",
      "99/99 [==============================] - 1s 6ms/step - loss: 0.5829 - binary_accuracy: 0.6944 - recall: 0.7121 - val_loss: 0.5193 - val_binary_accuracy: 0.7386 - val_recall: 0.6000\n",
      "Epoch 19/100\n",
      "99/99 [==============================] - 1s 6ms/step - loss: 0.5905 - binary_accuracy: 0.6888 - recall: 0.7071 - val_loss: 0.5195 - val_binary_accuracy: 0.7386 - val_recall: 0.6000\n",
      "Epoch 20/100\n",
      "99/99 [==============================] - 1s 6ms/step - loss: 0.5728 - binary_accuracy: 0.7112 - recall: 0.7311 - val_loss: 0.5076 - val_binary_accuracy: 0.7421 - val_recall: 0.6000\n",
      "Epoch 21/100\n",
      "99/99 [==============================] - 1s 6ms/step - loss: 0.5754 - binary_accuracy: 0.7027 - recall: 0.7229 - val_loss: 0.5110 - val_binary_accuracy: 0.7421 - val_recall: 0.6000\n",
      "Epoch 22/100\n",
      "99/99 [==============================] - 1s 6ms/step - loss: 0.5773 - binary_accuracy: 0.7042 - recall: 0.7197 - val_loss: 0.5052 - val_binary_accuracy: 0.7386 - val_recall: 0.6000\n",
      "Epoch 23/100\n",
      "99/99 [==============================] - 1s 6ms/step - loss: 0.5600 - binary_accuracy: 0.7175 - recall: 0.7247 - val_loss: 0.5096 - val_binary_accuracy: 0.7351 - val_recall: 0.6000\n",
      "Epoch 24/100\n",
      "99/99 [==============================] - 1s 6ms/step - loss: 0.5644 - binary_accuracy: 0.7197 - recall: 0.7393 - val_loss: 0.5100 - val_binary_accuracy: 0.7316 - val_recall: 0.6000\n",
      "Epoch 25/100\n",
      "99/99 [==============================] - 1s 6ms/step - loss: 0.5689 - binary_accuracy: 0.7033 - recall: 0.7361 - val_loss: 0.4997 - val_binary_accuracy: 0.7421 - val_recall: 0.6000\n",
      "Epoch 26/100\n",
      "99/99 [==============================] - 1s 5ms/step - loss: 0.5616 - binary_accuracy: 0.7115 - recall: 0.7519 - val_loss: 0.5040 - val_binary_accuracy: 0.7333 - val_recall: 0.6000\n",
      "Epoch 27/100\n",
      "99/99 [==============================] - 1s 6ms/step - loss: 0.5658 - binary_accuracy: 0.7162 - recall: 0.7437 - val_loss: 0.5035 - val_binary_accuracy: 0.7298 - val_recall: 0.6000\n",
      "Epoch 28/100\n",
      "99/99 [==============================] - 1s 6ms/step - loss: 0.5795 - binary_accuracy: 0.6998 - recall: 0.7361 - val_loss: 0.4999 - val_binary_accuracy: 0.7351 - val_recall: 0.6000\n",
      "Epoch 29/100\n",
      "99/99 [==============================] - 1s 6ms/step - loss: 0.5709 - binary_accuracy: 0.6973 - recall: 0.7266 - val_loss: 0.4944 - val_binary_accuracy: 0.7333 - val_recall: 0.6000\n",
      "Epoch 30/100\n",
      "99/99 [==============================] - 1s 6ms/step - loss: 0.5604 - binary_accuracy: 0.7159 - recall: 0.7494 - val_loss: 0.4988 - val_binary_accuracy: 0.7298 - val_recall: 0.6000\n",
      "Epoch 31/100\n",
      "99/99 [==============================] - 1s 6ms/step - loss: 0.5637 - binary_accuracy: 0.7093 - recall: 0.7487 - val_loss: 0.4928 - val_binary_accuracy: 0.7316 - val_recall: 0.6000\n",
      "Epoch 32/100\n",
      "99/99 [==============================] - 1s 6ms/step - loss: 0.5581 - binary_accuracy: 0.7055 - recall: 0.7437 - val_loss: 0.4920 - val_binary_accuracy: 0.7351 - val_recall: 0.8000\n",
      "Epoch 33/100\n",
      "99/99 [==============================] - 1s 6ms/step - loss: 0.5402 - binary_accuracy: 0.7295 - recall: 0.7652 - val_loss: 0.4846 - val_binary_accuracy: 0.7368 - val_recall: 0.6000\n",
      "Epoch 34/100\n",
      "99/99 [==============================] - 1s 6ms/step - loss: 0.5430 - binary_accuracy: 0.7336 - recall: 0.7645 - val_loss: 0.4811 - val_binary_accuracy: 0.7386 - val_recall: 0.8000\n",
      "Epoch 35/100\n",
      "99/99 [==============================] - 1s 6ms/step - loss: 0.5575 - binary_accuracy: 0.7222 - recall: 0.7664 - val_loss: 0.4737 - val_binary_accuracy: 0.7368 - val_recall: 0.8000\n",
      "Epoch 36/100\n",
      "99/99 [==============================] - 1s 6ms/step - loss: 0.5547 - binary_accuracy: 0.7165 - recall: 0.7386 - val_loss: 0.4914 - val_binary_accuracy: 0.7298 - val_recall: 0.8000\n",
      "Epoch 37/100\n",
      "99/99 [==============================] - 1s 6ms/step - loss: 0.5566 - binary_accuracy: 0.7194 - recall: 0.7551 - val_loss: 0.4897 - val_binary_accuracy: 0.7281 - val_recall: 0.8000\n",
      "Epoch 38/100\n",
      "99/99 [==============================] - 1s 6ms/step - loss: 0.5511 - binary_accuracy: 0.7181 - recall: 0.7525 - val_loss: 0.4840 - val_binary_accuracy: 0.7333 - val_recall: 0.8000\n",
      "Epoch 39/100\n",
      "99/99 [==============================] - 1s 6ms/step - loss: 0.5491 - binary_accuracy: 0.7178 - recall: 0.7544 - val_loss: 0.4826 - val_binary_accuracy: 0.7351 - val_recall: 0.8000\n",
      "Epoch 40/100\n",
      "99/99 [==============================] - 1s 6ms/step - loss: 0.5362 - binary_accuracy: 0.7307 - recall: 0.7551 - val_loss: 0.5008 - val_binary_accuracy: 0.7298 - val_recall: 0.8000\n",
      "Epoch 41/100\n",
      "99/99 [==============================] - 1s 6ms/step - loss: 0.5429 - binary_accuracy: 0.7260 - recall: 0.7727 - val_loss: 0.4817 - val_binary_accuracy: 0.7333 - val_recall: 0.8000\n",
      "Epoch 42/100\n",
      "99/99 [==============================] - 1s 5ms/step - loss: 0.5331 - binary_accuracy: 0.7311 - recall: 0.7708 - val_loss: 0.4792 - val_binary_accuracy: 0.7333 - val_recall: 0.8000\n",
      "Epoch 43/100\n",
      "99/99 [==============================] - 1s 6ms/step - loss: 0.5424 - binary_accuracy: 0.7263 - recall: 0.7563 - val_loss: 0.4762 - val_binary_accuracy: 0.7316 - val_recall: 0.8000\n",
      "Epoch 44/100\n",
      "99/99 [==============================] - 1s 6ms/step - loss: 0.5265 - binary_accuracy: 0.7336 - recall: 0.7727 - val_loss: 0.4844 - val_binary_accuracy: 0.7246 - val_recall: 0.8000\n",
      "Epoch 45/100\n",
      "99/99 [==============================] - 1s 6ms/step - loss: 0.5256 - binary_accuracy: 0.7336 - recall: 0.7702 - val_loss: 0.4779 - val_binary_accuracy: 0.7351 - val_recall: 0.8000\n",
      "Epoch 46/100\n",
      "99/99 [==============================] - 1s 6ms/step - loss: 0.5236 - binary_accuracy: 0.7361 - recall: 0.7715 - val_loss: 0.4825 - val_binary_accuracy: 0.7333 - val_recall: 0.8000\n",
      "Epoch 47/100\n",
      "99/99 [==============================] - 1s 6ms/step - loss: 0.5283 - binary_accuracy: 0.7307 - recall: 0.7670 - val_loss: 0.4650 - val_binary_accuracy: 0.7404 - val_recall: 0.8000\n",
      "Epoch 48/100\n",
      "99/99 [==============================] - 1s 6ms/step - loss: 0.5386 - binary_accuracy: 0.7244 - recall: 0.7614 - val_loss: 0.4515 - val_binary_accuracy: 0.7439 - val_recall: 0.8000\n",
      "Epoch 49/100\n",
      "99/99 [==============================] - 1s 5ms/step - loss: 0.5246 - binary_accuracy: 0.7323 - recall: 0.7576 - val_loss: 0.4677 - val_binary_accuracy: 0.7351 - val_recall: 0.8000\n",
      "Epoch 50/100\n",
      "99/99 [==============================] - 1s 6ms/step - loss: 0.5322 - binary_accuracy: 0.7292 - recall: 0.7658 - val_loss: 0.4656 - val_binary_accuracy: 0.7333 - val_recall: 0.8000\n",
      "Epoch 51/100\n",
      "99/99 [==============================] - 1s 6ms/step - loss: 0.5255 - binary_accuracy: 0.7380 - recall: 0.7715 - val_loss: 0.4744 - val_binary_accuracy: 0.7316 - val_recall: 0.8000\n",
      "Epoch 52/100\n",
      "99/99 [==============================] - 1s 6ms/step - loss: 0.5241 - binary_accuracy: 0.7336 - recall: 0.7740 - val_loss: 0.4721 - val_binary_accuracy: 0.7316 - val_recall: 0.8000\n",
      "Epoch 53/100\n",
      "99/99 [==============================] - 1s 6ms/step - loss: 0.5203 - binary_accuracy: 0.7330 - recall: 0.7683 - val_loss: 0.4613 - val_binary_accuracy: 0.7351 - val_recall: 0.8000\n",
      "Epoch 54/100\n",
      "99/99 [==============================] - 1s 6ms/step - loss: 0.5229 - binary_accuracy: 0.7352 - recall: 0.7721 - val_loss: 0.4554 - val_binary_accuracy: 0.7404 - val_recall: 0.8000\n",
      "Epoch 55/100\n",
      "99/99 [==============================] - 1s 6ms/step - loss: 0.5363 - binary_accuracy: 0.7188 - recall: 0.7513 - val_loss: 0.4654 - val_binary_accuracy: 0.7263 - val_recall: 0.8000\n",
      "Epoch 56/100\n",
      "99/99 [==============================] - 1s 6ms/step - loss: 0.5122 - binary_accuracy: 0.7405 - recall: 0.7670 - val_loss: 0.4722 - val_binary_accuracy: 0.7228 - val_recall: 0.8000\n",
      "Epoch 57/100\n",
      "99/99 [==============================] - 1s 6ms/step - loss: 0.5288 - binary_accuracy: 0.7257 - recall: 0.7519 - val_loss: 0.4648 - val_binary_accuracy: 0.7263 - val_recall: 0.8000\n",
      "Epoch 58/100\n",
      "99/99 [==============================] - 1s 6ms/step - loss: 0.5176 - binary_accuracy: 0.7342 - recall: 0.7689 - val_loss: 0.4607 - val_binary_accuracy: 0.7246 - val_recall: 0.8000\n",
      "Epoch 59/100\n",
      "99/99 [==============================] - 1s 6ms/step - loss: 0.5232 - binary_accuracy: 0.7333 - recall: 0.7645 - val_loss: 0.4633 - val_binary_accuracy: 0.7228 - val_recall: 0.8000\n",
      "Epoch 60/100\n",
      "99/99 [==============================] - 1s 6ms/step - loss: 0.5179 - binary_accuracy: 0.7431 - recall: 0.7727 - val_loss: 0.4722 - val_binary_accuracy: 0.7193 - val_recall: 0.8000\n",
      "Epoch 61/100\n",
      "99/99 [==============================] - 1s 6ms/step - loss: 0.4997 - binary_accuracy: 0.7421 - recall: 0.7841 - val_loss: 0.4629 - val_binary_accuracy: 0.7228 - val_recall: 0.8000\n",
      "Epoch 62/100\n",
      "99/99 [==============================] - 1s 6ms/step - loss: 0.5141 - binary_accuracy: 0.7358 - recall: 0.7765 - val_loss: 0.4583 - val_binary_accuracy: 0.7316 - val_recall: 0.8000\n",
      "Epoch 63/100\n",
      "99/99 [==============================] - 1s 6ms/step - loss: 0.4947 - binary_accuracy: 0.7491 - recall: 0.7803 - val_loss: 0.4566 - val_binary_accuracy: 0.7333 - val_recall: 0.8000\n",
      "Epoch 64/100\n",
      "99/99 [==============================] - 1s 6ms/step - loss: 0.4969 - binary_accuracy: 0.7475 - recall: 0.7822 - val_loss: 0.4468 - val_binary_accuracy: 0.7421 - val_recall: 0.8000\n",
      "Epoch 65/100\n",
      "99/99 [==============================] - 1s 6ms/step - loss: 0.5062 - binary_accuracy: 0.7396 - recall: 0.7670 - val_loss: 0.4558 - val_binary_accuracy: 0.7298 - val_recall: 0.8000\n",
      "Epoch 66/100\n",
      "99/99 [==============================] - 1s 6ms/step - loss: 0.5046 - binary_accuracy: 0.7446 - recall: 0.7677 - val_loss: 0.4530 - val_binary_accuracy: 0.7246 - val_recall: 0.8000\n",
      "Epoch 67/100\n",
      "99/99 [==============================] - 1s 6ms/step - loss: 0.5046 - binary_accuracy: 0.7339 - recall: 0.7721 - val_loss: 0.4476 - val_binary_accuracy: 0.7281 - val_recall: 0.8000\n",
      "Epoch 68/100\n",
      "99/99 [==============================] - 1s 6ms/step - loss: 0.4945 - binary_accuracy: 0.7532 - recall: 0.7936 - val_loss: 0.4289 - val_binary_accuracy: 0.7491 - val_recall: 0.8000\n",
      "Epoch 69/100\n",
      "99/99 [==============================] - 1s 6ms/step - loss: 0.5047 - binary_accuracy: 0.7494 - recall: 0.7771 - val_loss: 0.4580 - val_binary_accuracy: 0.7333 - val_recall: 1.0000\n",
      "Epoch 70/100\n",
      "99/99 [==============================] - 1s 6ms/step - loss: 0.4770 - binary_accuracy: 0.7677 - recall: 0.8056 - val_loss: 0.4544 - val_binary_accuracy: 0.7316 - val_recall: 0.8000\n",
      "Epoch 71/100\n",
      "99/99 [==============================] - 1s 6ms/step - loss: 0.4917 - binary_accuracy: 0.7487 - recall: 0.7847 - val_loss: 0.4303 - val_binary_accuracy: 0.7491 - val_recall: 0.8000\n",
      "Epoch 72/100\n",
      "99/99 [==============================] - 1s 6ms/step - loss: 0.4921 - binary_accuracy: 0.7551 - recall: 0.7929 - val_loss: 0.4440 - val_binary_accuracy: 0.7456 - val_recall: 1.0000\n",
      "Epoch 73/100\n",
      "99/99 [==============================] - 1s 6ms/step - loss: 0.4935 - binary_accuracy: 0.7522 - recall: 0.7778 - val_loss: 0.4455 - val_binary_accuracy: 0.7421 - val_recall: 1.0000\n",
      "Epoch 74/100\n",
      "99/99 [==============================] - 1s 6ms/step - loss: 0.4945 - binary_accuracy: 0.7424 - recall: 0.7753 - val_loss: 0.4338 - val_binary_accuracy: 0.7544 - val_recall: 1.0000\n",
      "Epoch 75/100\n",
      "99/99 [==============================] - 1s 6ms/step - loss: 0.5036 - binary_accuracy: 0.7431 - recall: 0.7734 - val_loss: 0.4425 - val_binary_accuracy: 0.7509 - val_recall: 1.0000\n",
      "Epoch 76/100\n",
      "99/99 [==============================] - 1s 6ms/step - loss: 0.4813 - binary_accuracy: 0.7595 - recall: 0.7891 - val_loss: 0.4431 - val_binary_accuracy: 0.7509 - val_recall: 1.0000\n",
      "Epoch 77/100\n",
      "99/99 [==============================] - 1s 6ms/step - loss: 0.4834 - binary_accuracy: 0.7610 - recall: 0.7904 - val_loss: 0.4241 - val_binary_accuracy: 0.7649 - val_recall: 1.0000\n",
      "Epoch 78/100\n",
      "99/99 [==============================] - 1s 6ms/step - loss: 0.4731 - binary_accuracy: 0.7614 - recall: 0.7847 - val_loss: 0.4446 - val_binary_accuracy: 0.7456 - val_recall: 1.0000\n",
      "Epoch 79/100\n",
      "99/99 [==============================] - 1s 6ms/step - loss: 0.4730 - binary_accuracy: 0.7576 - recall: 0.7898 - val_loss: 0.4317 - val_binary_accuracy: 0.7561 - val_recall: 0.8000\n",
      "Epoch 80/100\n",
      "99/99 [==============================] - 1s 6ms/step - loss: 0.4682 - binary_accuracy: 0.7689 - recall: 0.7860 - val_loss: 0.4417 - val_binary_accuracy: 0.7474 - val_recall: 1.0000\n",
      "Epoch 81/100\n",
      "99/99 [==============================] - 1s 6ms/step - loss: 0.4743 - binary_accuracy: 0.7617 - recall: 0.7917 - val_loss: 0.4500 - val_binary_accuracy: 0.7474 - val_recall: 1.0000\n",
      "Epoch 82/100\n",
      "99/99 [==============================] - 1s 6ms/step - loss: 0.4732 - binary_accuracy: 0.7683 - recall: 0.7980 - val_loss: 0.4288 - val_binary_accuracy: 0.7684 - val_recall: 1.0000\n",
      "Epoch 83/100\n",
      "99/99 [==============================] - 1s 6ms/step - loss: 0.4708 - binary_accuracy: 0.7693 - recall: 0.7948 - val_loss: 0.4360 - val_binary_accuracy: 0.7632 - val_recall: 1.0000\n",
      "Epoch 84/100\n",
      "99/99 [==============================] - 1s 6ms/step - loss: 0.4633 - binary_accuracy: 0.7784 - recall: 0.8138 - val_loss: 0.4369 - val_binary_accuracy: 0.7614 - val_recall: 1.0000\n",
      "Epoch 85/100\n",
      "99/99 [==============================] - 1s 6ms/step - loss: 0.4627 - binary_accuracy: 0.7721 - recall: 0.8005 - val_loss: 0.4272 - val_binary_accuracy: 0.7667 - val_recall: 1.0000\n",
      "Epoch 86/100\n",
      "99/99 [==============================] - 1s 6ms/step - loss: 0.4555 - binary_accuracy: 0.7759 - recall: 0.7999 - val_loss: 0.4383 - val_binary_accuracy: 0.7579 - val_recall: 1.0000\n",
      "Epoch 87/100\n",
      "99/99 [==============================] - 1s 6ms/step - loss: 0.4761 - binary_accuracy: 0.7689 - recall: 0.8068 - val_loss: 0.4262 - val_binary_accuracy: 0.7649 - val_recall: 1.0000\n",
      "Epoch 88/100\n",
      "99/99 [==============================] - 1s 6ms/step - loss: 0.4650 - binary_accuracy: 0.7674 - recall: 0.7967 - val_loss: 0.4338 - val_binary_accuracy: 0.7632 - val_recall: 1.0000\n",
      "Epoch 89/100\n",
      "99/99 [==============================] - 1s 6ms/step - loss: 0.4655 - binary_accuracy: 0.7655 - recall: 0.7992 - val_loss: 0.4213 - val_binary_accuracy: 0.7702 - val_recall: 1.0000\n",
      "Epoch 90/100\n",
      "99/99 [==============================] - 1s 6ms/step - loss: 0.4710 - binary_accuracy: 0.7670 - recall: 0.7917 - val_loss: 0.4353 - val_binary_accuracy: 0.7579 - val_recall: 1.0000\n",
      "Epoch 91/100\n",
      "99/99 [==============================] - 1s 6ms/step - loss: 0.4484 - binary_accuracy: 0.7841 - recall: 0.8188 - val_loss: 0.4368 - val_binary_accuracy: 0.7596 - val_recall: 1.0000\n",
      "Epoch 92/100\n",
      "99/99 [==============================] - 1s 6ms/step - loss: 0.4531 - binary_accuracy: 0.7901 - recall: 0.8270 - val_loss: 0.4287 - val_binary_accuracy: 0.7649 - val_recall: 1.0000\n",
      "Epoch 93/100\n",
      "99/99 [==============================] - 1s 6ms/step - loss: 0.4511 - binary_accuracy: 0.7847 - recall: 0.8226 - val_loss: 0.4188 - val_binary_accuracy: 0.7702 - val_recall: 1.0000\n",
      "Epoch 94/100\n",
      "99/99 [==============================] - 1s 6ms/step - loss: 0.4405 - binary_accuracy: 0.7841 - recall: 0.8138 - val_loss: 0.4234 - val_binary_accuracy: 0.7632 - val_recall: 1.0000\n",
      "Epoch 95/100\n",
      "99/99 [==============================] - 1s 6ms/step - loss: 0.4417 - binary_accuracy: 0.7863 - recall: 0.8188 - val_loss: 0.4128 - val_binary_accuracy: 0.7754 - val_recall: 1.0000\n",
      "Epoch 96/100\n",
      "99/99 [==============================] - 1s 6ms/step - loss: 0.4450 - binary_accuracy: 0.7898 - recall: 0.8258 - val_loss: 0.4201 - val_binary_accuracy: 0.7754 - val_recall: 1.0000\n",
      "Epoch 97/100\n",
      "99/99 [==============================] - 1s 6ms/step - loss: 0.4482 - binary_accuracy: 0.7860 - recall: 0.8093 - val_loss: 0.4115 - val_binary_accuracy: 0.7825 - val_recall: 1.0000\n",
      "Epoch 98/100\n",
      "99/99 [==============================] - 1s 6ms/step - loss: 0.4361 - binary_accuracy: 0.7992 - recall: 0.8270 - val_loss: 0.4125 - val_binary_accuracy: 0.7807 - val_recall: 1.0000\n",
      "Epoch 99/100\n",
      "99/99 [==============================] - 1s 6ms/step - loss: 0.4321 - binary_accuracy: 0.7917 - recall: 0.8232 - val_loss: 0.4104 - val_binary_accuracy: 0.7807 - val_recall: 1.0000\n",
      "Epoch 100/100\n",
      "99/99 [==============================] - 1s 6ms/step - loss: 0.4418 - binary_accuracy: 0.7869 - recall: 0.8112 - val_loss: 0.4251 - val_binary_accuracy: 0.7772 - val_recall: 1.0000\n"
     ]
    }
   ],
   "source": [
    "train_model(epochs=100)"
   ]
  },
  {
   "cell_type": "code",
   "execution_count": 18,
   "metadata": {},
   "outputs": [
    {
     "data": {
      "text/plain": [
       "Reusing TensorBoard on port 6006 (pid 20036), started 0:01:33 ago. (Use '!kill 20036' to kill it.)"
      ]
     },
     "metadata": {},
     "output_type": "display_data"
    },
    {
     "data": {
      "text/html": [
       "\n",
       "      <iframe id=\"tensorboard-frame-e9ffb7faaaa953b9\" width=\"100%\" height=\"800\" frameborder=\"0\">\n",
       "      </iframe>\n",
       "      <script>\n",
       "        (function() {\n",
       "          const frame = document.getElementById(\"tensorboard-frame-e9ffb7faaaa953b9\");\n",
       "          const url = new URL(\"/\", window.location);\n",
       "          const port = 6006;\n",
       "          if (port) {\n",
       "            url.port = port;\n",
       "          }\n",
       "          frame.src = url;\n",
       "        })();\n",
       "      </script>\n",
       "    "
      ],
      "text/plain": [
       "<IPython.core.display.HTML object>"
      ]
     },
     "metadata": {},
     "output_type": "display_data"
    }
   ],
   "source": [
    "%tensorboard --logdir logs"
   ]
  },
  {
   "cell_type": "markdown",
   "metadata": {},
   "source": [
    "### Final notes"
   ]
  },
  {
   "cell_type": "markdown",
   "metadata": {},
   "source": [
    "Two models have been implemeted in this notebook a SVC and a (small) CNN. The results prove that the CNN did worked better than the SVC. Nevertheless, some remarks are reported below:\n",
    "\n",
    "- SVC could improve its performances by working on a smaller set of engineered features.\n",
    "- CNN should be did archive respectivelly 81% and 100% of recall in train and test set. Since the test set is actually quite small it might makes sense to revaluate the results with a different split i.e cross-validation.\n",
    "- No specific HPO has been performed. That's could improve the results/robustness of both algorithms."
   ]
  },
  {
   "cell_type": "code",
   "execution_count": null,
   "metadata": {},
   "outputs": [],
   "source": []
  }
 ],
 "metadata": {
  "kernelspec": {
   "display_name": "Python 3",
   "language": "python",
   "name": "python3"
  },
  "language_info": {
   "codemirror_mode": {
    "name": "ipython",
    "version": 3
   },
   "file_extension": ".py",
   "mimetype": "text/x-python",
   "name": "python",
   "nbconvert_exporter": "python",
   "pygments_lexer": "ipython3",
   "version": "3.6.10"
  }
 },
 "nbformat": 4,
 "nbformat_minor": 4
}
