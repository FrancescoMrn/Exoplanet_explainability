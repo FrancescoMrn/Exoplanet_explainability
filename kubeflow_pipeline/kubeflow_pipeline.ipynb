{
 "cells": [
  {
   "cell_type": "markdown",
   "id": "metallic-blade",
   "metadata": {},
   "source": [
    "# Kubeflow pipeline"
   ]
  },
  {
   "cell_type": "markdown",
   "id": "amended-wagner",
   "metadata": {},
   "source": [
    "Setup environment"
   ]
  },
  {
   "cell_type": "code",
   "execution_count": null,
   "id": "harmful-strain",
   "metadata": {},
   "outputs": [],
   "source": [
    "pip freeze | grep kfp || pip install kfp"
   ]
  },
  {
   "cell_type": "code",
   "execution_count": 1,
   "id": "pediatric-entry",
   "metadata": {},
   "outputs": [],
   "source": [
    "from os import path\n",
    "\n",
    "import kfp\n",
    "import kfp.compiler as compiler\n",
    "import kfp.components as comp\n",
    "import kfp.dsl as dsl\n",
    "import kfp.gcp as gcp\n",
    "import kfp.notebook"
   ]
  },
  {
   "cell_type": "markdown",
   "id": "unlikely-aerospace",
   "metadata": {},
   "source": [
    "## Kubeflow cluster parameters"
   ]
  },
  {
   "cell_type": "code",
   "execution_count": 2,
   "id": "consolidated-annotation",
   "metadata": {},
   "outputs": [],
   "source": [
    "HOST = \"5b8b92b6f76cc052-dot-us-central2.pipelines.googleusercontent.com\"\n",
    "BUCKET = \"ds-dev-playground\""
   ]
  },
  {
   "cell_type": "code",
   "execution_count": 3,
   "id": "interstate-ecuador",
   "metadata": {},
   "outputs": [],
   "source": [
    "client = kfp.Client(host=HOST)"
   ]
  },
  {
   "cell_type": "code",
   "execution_count": 4,
   "id": "jewish-divide",
   "metadata": {},
   "outputs": [
    {
     "data": {
      "text/html": [
       "<a href=\"http://5b8b92b6f76cc052-dot-us-central2.pipelines.googleusercontent.com/#/experiments/details/9073c51b-bd67-4a96-a1bf-d3a5a9907c1c\" target=\"_blank\" >Experiment details</a>."
      ],
      "text/plain": [
       "<IPython.core.display.HTML object>"
      ]
     },
     "metadata": {},
     "output_type": "display_data"
    },
    {
     "data": {
      "text/plain": [
       "{'experiments': [{'created_at': datetime.datetime(2021, 2, 21, 18, 1, 12, tzinfo=tzlocal()),\n",
       "                  'description': 'All runs created without specifying an '\n",
       "                                 'experiment will be grouped here.',\n",
       "                  'id': '2040adb0-db22-40be-a536-e83aa602c131',\n",
       "                  'name': 'Default',\n",
       "                  'resource_references': None,\n",
       "                  'storage_state': 'STORAGESTATE_AVAILABLE'},\n",
       "                 {'created_at': datetime.datetime(2021, 2, 21, 18, 8, 18, tzinfo=tzlocal()),\n",
       "                  'description': None,\n",
       "                  'id': '9073c51b-bd67-4a96-a1bf-d3a5a9907c1c',\n",
       "                  'name': 'exoplanets',\n",
       "                  'resource_references': None,\n",
       "                  'storage_state': 'STORAGESTATE_AVAILABLE'}],\n",
       " 'next_page_token': None,\n",
       " 'total_size': 2}"
      ]
     },
     "execution_count": 4,
     "metadata": {},
     "output_type": "execute_result"
    }
   ],
   "source": [
    "exp = client.create_experiment(name='exoplanets')\n",
    "client.list_experiments()"
   ]
  },
  {
   "cell_type": "markdown",
   "id": "second-america",
   "metadata": {},
   "source": [
    "## Build and push the images on gcp container repo"
   ]
  },
  {
   "cell_type": "code",
   "execution_count": 5,
   "id": "prescribed-terminal",
   "metadata": {},
   "outputs": [
    {
     "name": "stdout",
     "output_type": "stream",
     "text": [
      "Sending build context to Docker daemon  27.14kB\n",
      "Step 1/4 : FROM python:3.7-slim\n",
      " ---> fabb1ac41e06\n",
      "Step 2/4 : COPY . /code\n",
      " ---> Using cache\n",
      " ---> bda0019f2790\n",
      "Step 3/4 : WORKDIR /code\n",
      " ---> Using cache\n",
      " ---> 456f3c81f791\n",
      "Step 4/4 : RUN pip install -U numpy xgboost\n",
      " ---> Using cache\n",
      " ---> 259b5df18aa2\n",
      "Successfully built 259b5df18aa2\n",
      "Successfully tagged gcr.io/ds-dev-playground/exoplanets_kubeflow-preprocess:latest\n"
     ]
    }
   ],
   "source": [
    "# Builds the exoplanets preprocess container\n",
    "!components/preprocess/scripts/build.sh"
   ]
  },
  {
   "cell_type": "code",
   "execution_count": 6,
   "id": "compact-adobe",
   "metadata": {},
   "outputs": [
    {
     "name": "stdout",
     "output_type": "stream",
     "text": [
      "The push refers to repository [gcr.io/ds-dev-playground/exoplanets_kubeflow-preprocess]\n",
      "\n",
      "\u001b[1B62061195: Preparing \n",
      "\u001b[1B60accd3c: Preparing \n",
      "\u001b[1B9a903741: Preparing \n",
      "\u001b[1Bf1c57fd6: Preparing \n",
      "\u001b[1Bc0e8385f: Preparing \n",
      "\u001b[1Baf342595: Preparing \n",
      "\u001b[2Baf342595: Layer already exists \u001b[4A\u001b[2K\u001b[1A\u001b[2Klatest: digest: sha256:c6fc07dbc71d5caf92f74fca36b8ef520cd71ab1334adc714f0bd13dd8e041f1 size: 1791\n"
     ]
    }
   ],
   "source": [
    "# Pushes the exoplanets preprocess container to gcr/io\n",
    "!components/preprocess/scripts/push.sh"
   ]
  },
  {
   "cell_type": "markdown",
   "id": "operating-greeting",
   "metadata": {},
   "source": [
    "## Create a Kubeflow pipeline¶\n"
   ]
  },
  {
   "cell_type": "code",
   "execution_count": 7,
   "id": "dense-atmosphere",
   "metadata": {},
   "outputs": [],
   "source": [
    "PIPELINE_TAR = 'exoplanets.tar.gz'\n",
    "PREPROCESS_YAML = 'components/preprocess/preprocess.yaml'"
   ]
  },
  {
   "cell_type": "code",
   "execution_count": 8,
   "id": "ancient-stanley",
   "metadata": {},
   "outputs": [],
   "source": [
    "@dsl.pipeline(\n",
    "    name='ExoPlanets_kubeflow',\n",
    "    description='ExoPlanets - Kubeflow edn-to-end pipeline')\n",
    "\n",
    "def pipeline(gcs_bucket_name='<bucket where data and model will be exported>'):\n",
    "\n",
    "    preprocess_op = comp.load_component_from_file(PREPROCESS_YAML)\n",
    "    preprocess = preprocess_op(\n",
    "        input_bucket=gcs_bucket_name,\n",
    "    )"
   ]
  },
  {
   "cell_type": "code",
   "execution_count": 9,
   "id": "smaller-harvard",
   "metadata": {},
   "outputs": [],
   "source": [
    "# Compile the pipeline\n",
    "compiler.Compiler().compile(pipeline, PIPELINE_TAR)"
   ]
  },
  {
   "cell_type": "code",
   "execution_count": 10,
   "id": "powerful-glenn",
   "metadata": {},
   "outputs": [
    {
     "name": "stdout",
     "output_type": "stream",
     "text": [
      "exoplanets.tar.gz\n"
     ]
    }
   ],
   "source": [
    "ls $PIPELINE_TAR"
   ]
  },
  {
   "cell_type": "markdown",
   "id": "potential-badge",
   "metadata": {},
   "source": [
    "## Run the Kubeflow pipeline"
   ]
  },
  {
   "cell_type": "code",
   "execution_count": 11,
   "id": "amber-effectiveness",
   "metadata": {},
   "outputs": [
    {
     "data": {
      "text/html": [
       "<a href=\"http://5b8b92b6f76cc052-dot-us-central2.pipelines.googleusercontent.com/#/runs/details/66bff814-911b-4785-b289-e56eb6b46f33\" target=\"_blank\" >Run details</a>."
      ],
      "text/plain": [
       "<IPython.core.display.HTML object>"
      ]
     },
     "metadata": {},
     "output_type": "display_data"
    }
   ],
   "source": [
    "run = client.run_pipeline(\n",
    "    experiment_id=exp.id, \n",
    "    job_name='exoplanets_preprocess_v5', \n",
    "    pipeline_package_path=PIPELINE_TAR, \n",
    "    params={\n",
    "        'gcs_bucket_name': \"exoplanets_kubeflow\",\n",
    "    },\n",
    ")"
   ]
  },
  {
   "cell_type": "code",
   "execution_count": null,
   "id": "agreed-currency",
   "metadata": {},
   "outputs": [],
   "source": []
  }
 ],
 "metadata": {
  "environment": {
   "name": "tf2-gpu.2-4.mnightly-2021-02-12-debian-10-test",
   "type": "gcloud",
   "uri": "gcr.io/deeplearning-platform-release/tf2-gpu.2-4:mnightly-2021-02-12-debian-10-test"
  },
  "kernelspec": {
   "display_name": "Python 3",
   "language": "python",
   "name": "python3"
  },
  "language_info": {
   "codemirror_mode": {
    "name": "ipython",
    "version": 3
   },
   "file_extension": ".py",
   "mimetype": "text/x-python",
   "name": "python",
   "nbconvert_exporter": "python",
   "pygments_lexer": "ipython3",
   "version": "3.7.9"
  }
 },
 "nbformat": 4,
 "nbformat_minor": 5
}
